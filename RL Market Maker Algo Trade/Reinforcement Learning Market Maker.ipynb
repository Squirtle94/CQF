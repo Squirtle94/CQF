{
 "cells": [
  {
   "cell_type": "code",
   "execution_count": 58,
   "metadata": {},
   "outputs": [],
   "source": [
    "import warnings\n",
    "warnings.filterwarnings(\"ignore\")"
   ]
  },
  {
   "cell_type": "code",
   "execution_count": 1,
   "metadata": {},
   "outputs": [],
   "source": [
    "import numpy as np\n",
    "import matplotlib.pyplot as plt\n",
    "import pandas as pd"
   ]
  },
  {
   "cell_type": "markdown",
   "metadata": {},
   "source": [
    "## Parameters"
   ]
  },
  {
   "cell_type": "code",
   "execution_count": 9,
   "metadata": {},
   "outputs": [],
   "source": [
    "# parameters\n",
    "INITIAL_PRICE = 200\n",
    "MAX_T = 150\n",
    "PROB_PRICE = 0.2\n",
    "PROB_PRICE_UP = PROB_PRICE\n",
    "PROB_PRICE_DOWN = PROB_PRICE\n",
    "PROB_UNINFORMED = 0.1\n",
    "PROB_UNINFORMED_BUY = PROB_UNINFORMED\n",
    "PROB_UNINFORMED_SELL = PROB_UNINFORMED\n",
    "PROB_INFORMED = 0.4\n",
    "ALL_PROB = [PROB_PRICE_UP, PROB_PRICE_DOWN, PROB_UNINFORMED_SELL, PROB_UNINFORMED_BUY, PROB_INFORMED]"
   ]
  },
  {
   "cell_type": "code",
   "execution_count": 10,
   "metadata": {},
   "outputs": [
    {
     "data": {
      "text/plain": [
       "1.0"
      ]
     },
     "execution_count": 10,
     "metadata": {},
     "output_type": "execute_result"
    }
   ],
   "source": [
    "np.sum(ALL_PROB)"
   ]
  },
  {
   "cell_type": "code",
   "execution_count": 11,
   "metadata": {},
   "outputs": [],
   "source": [
    "EVENT_PRICE_CHANGE_UP = 0\n",
    "EVENT_PRICE_CHANGE_DOWN = 1\n",
    "EVENT_UNINFORMED_BUY = 2\n",
    "EVENT_UNINFORMED_SELL = 3\n",
    "EVENT_INFORMED_ARRIVAL = 4"
   ]
  },
  {
   "cell_type": "code",
   "execution_count": 13,
   "metadata": {},
   "outputs": [],
   "source": [
    " ALL_EVENT = [EVENT_PRICE_CHANGE_UP, EVENT_PRICE_CHANGE_DOWN, EVENT_UNINFORMED_SELL, EVENT_UNINFORMED_BUY, EVENT_INFORMED_ARRIVAL]"
   ]
  },
  {
   "cell_type": "code",
   "execution_count": 14,
   "metadata": {},
   "outputs": [
    {
     "data": {
      "text/plain": [
       "[0, 1, 3, 2, 4]"
      ]
     },
     "execution_count": 14,
     "metadata": {},
     "output_type": "execute_result"
    }
   ],
   "source": [
    " ALL_EVENT"
   ]
  },
  {
   "cell_type": "markdown",
   "metadata": {},
   "source": [
    "- numpy.random.choice(a, size=None, replace=True, p=None)\n",
    "\n",
    "- 从a(只要是ndarray都可以，但必须是一维的)中随机抽取数字，并组成指定大小(size)的数组\n",
    "\n",
    "- replace:True表示可以取相同数字，False表示不可以取相同数字\n",
    "\n",
    "- 数组p：与数组a相对应，表示取数组a中每个元素的概率，默认为选取每个元素的概率相同。"
   ]
  },
  {
   "cell_type": "markdown",
   "metadata": {},
   "source": [
    "## Fundamental Prices Simulations"
   ]
  },
  {
   "cell_type": "code",
   "execution_count": 15,
   "metadata": {},
   "outputs": [],
   "source": [
    "# Simulating the Poisson process\n",
    "def simulate_events(probabilities=ALL_PROB):\n",
    "    return np.random.choice(ALL_EVENT, p=probabilities, size=MAX_T)"
   ]
  },
  {
   "cell_type": "code",
   "execution_count": 16,
   "metadata": {},
   "outputs": [
    {
     "data": {
      "text/plain": [
       "array([4, 4, 1, 2, 0, 2, 4, 0, 3, 0])"
      ]
     },
     "execution_count": 16,
     "metadata": {},
     "output_type": "execute_result"
    }
   ],
   "source": [
    "events = simulate_events()\n",
    "events[:10]"
   ]
  },
  {
   "cell_type": "code",
   "execution_count": 17,
   "metadata": {},
   "outputs": [
    {
     "data": {
      "text/plain": [
       "array([ 0.,  0., -1.,  0.,  1.,  0.,  0.,  1.,  0.,  1.])"
      ]
     },
     "execution_count": 17,
     "metadata": {},
     "output_type": "execute_result"
    }
   ],
   "source": [
    "\"\"\"\n",
    "#  Simulating the price process\n",
    "fundamental_price_changes = np.zeros(MAX_T)\n",
    "fundamental_price_changes[events == EVENT_PRICE_CHANGE_DOWN] = -1\n",
    "fundamental_price_changes[events == EVENT_PRICE_CHANGE_UP] = +1\n",
    "\n",
    "fundamental_price_changes[:10]\n",
    "\"\"\""
   ]
  },
  {
   "cell_type": "code",
   "execution_count": 19,
   "metadata": {},
   "outputs": [
    {
     "data": {
      "text/plain": [
       "(150, 150)"
      ]
     },
     "execution_count": 19,
     "metadata": {},
     "output_type": "execute_result"
    }
   ],
   "source": [
    "\"\"\"\n",
    "len(events),len(fundamental_price_changes)\n",
    "\"\"\""
   ]
  },
  {
   "cell_type": "code",
   "execution_count": 20,
   "metadata": {},
   "outputs": [
    {
     "data": {
      "text/plain": [
       "array([200., 200., 199., 199., 200., 200., 200., 201., 201., 202.])"
      ]
     },
     "execution_count": 20,
     "metadata": {},
     "output_type": "execute_result"
    }
   ],
   "source": [
    "\"\"\"\n",
    "fundamental_price = INITIAL_PRICE + np.cumsum(fundamental_price_changes)\n",
    "fundamental_price[:10]\n",
    "\"\"\""
   ]
  },
  {
   "cell_type": "code",
   "execution_count": 21,
   "metadata": {},
   "outputs": [
    {
     "data": {
      "text/plain": [
       "array([200., 200., 199., 199., 200., 200., 200., 201., 201., 202.])"
      ]
     },
     "execution_count": 21,
     "metadata": {},
     "output_type": "execute_result"
    }
   ],
   "source": [
    "# Simulating fundamental prices as a function\n",
    "def simulate_fundamental_price(events):\n",
    "    price_changes = np.zeros(MAX_T)\n",
    "    price_changes[events == EVENT_PRICE_CHANGE_DOWN] = -1\n",
    "    price_changes[events == EVENT_PRICE_CHANGE_UP] = +1\n",
    "    return INITIAL_PRICE + np.cumsum(price_changes)\n",
    "\n",
    "fundamental_price = simulate_fundamental_price(events)\n",
    "fundamental_price[:10]"
   ]
  },
  {
   "cell_type": "code",
   "execution_count": 23,
   "metadata": {},
   "outputs": [
    {
     "data": {
      "image/png": "[encoded data removed]",
      "text/plain": [
       "<Figure size 432x288 with 1 Axes>"
      ]
     },
     "metadata": {
      "needs_background": "light"
     },
     "output_type": "display_data"
    }
   ],
   "source": [
    "plt.plot(fundamental_price)\n",
    "plt.xlabel('$t$'); plt.ylabel('$p_t^*$')\n",
    "plt.show()"
   ]
  },
  {
   "cell_type": "markdown",
   "metadata": {},
   "source": [
    "## Uninformed Traders"
   ]
  },
  {
   "cell_type": "code",
   "execution_count": 24,
   "metadata": {},
   "outputs": [
    {
     "data": {
      "text/plain": [
       "array([ 0.,  0.,  0.,  1.,  0.,  1.,  0.,  0., -1.,  0.])"
      ]
     },
     "execution_count": 24,
     "metadata": {},
     "output_type": "execute_result"
    }
   ],
   "source": [
    "def simulate_uninformed_orders(events):\n",
    "    orders = np.zeros(MAX_T)\n",
    "    orders[events == EVENT_UNINFORMED_BUY] = +1\n",
    "    orders[events == EVENT_UNINFORMED_SELL] = -1\n",
    "    return orders\n",
    "uninformed_orders = simulate_uninformed_orders(events)\n",
    "uninformed_orders[:10]"
   ]
  },
  {
   "cell_type": "code",
   "execution_count": 25,
   "metadata": {},
   "outputs": [
    {
     "data": {
      "image/png": "[encoded data removed]",
      "text/plain": [
       "<Figure size 432x288 with 1 Axes>"
      ]
     },
     "metadata": {
      "needs_background": "light"
     },
     "output_type": "display_data"
    }
   ],
   "source": [
    "plt.plot(np.cumsum(uninformed_orders))\n",
    "plt.xlabel('$t$'); plt.ylabel('$IMB_t$')\n",
    "plt.show()"
   ]
  },
  {
   "cell_type": "markdown",
   "metadata": {},
   "source": [
    "## Informed Traders"
   ]
  },
  {
   "cell_type": "code",
   "execution_count": 26,
   "metadata": {},
   "outputs": [],
   "source": [
    "def informed_strategy(current_price, mm_price):\n",
    "    if current_price > mm_price:\n",
    "        return 1\n",
    "    elif current_price < mm_price:\n",
    "        return -1\n",
    "    else:\n",
    "        return 0"
   ]
  },
  {
   "cell_type": "markdown",
   "metadata": {},
   "source": [
    "## A simple market-making strategy\n"
   ]
  },
  {
   "cell_type": "code",
   "execution_count": 27,
   "metadata": {},
   "outputs": [],
   "source": [
    "# 追涨杀跌at threshold\n",
    "def mm_threshold_strategy(order_imbalance, threshold=2):\n",
    "    if order_imbalance == -threshold:\n",
    "        return -1\n",
    "    elif order_imbalance == +threshold:\n",
    "        return +1\n",
    "    else:\n",
    "        return 0"
   ]
  },
  {
   "cell_type": "markdown",
   "metadata": {},
   "source": [
    "## The reward function\n"
   ]
  },
  {
   "cell_type": "code",
   "execution_count": 28,
   "metadata": {},
   "outputs": [],
   "source": [
    "def mm_reward(current_fundamental_price, mm_current_price, order_sign):\n",
    "    if order_sign < 0:\n",
    "        return current_fundamental_price - mm_current_price\n",
    "    elif order_sign > 0:\n",
    "        return mm_current_price - current_fundamental_price\n",
    "    else:\n",
    "        return 0"
   ]
  },
  {
   "cell_type": "markdown",
   "metadata": {},
   "source": [
    "## The market simulation"
   ]
  },
  {
   "cell_type": "code",
   "execution_count": 29,
   "metadata": {},
   "outputs": [],
   "source": [
    "def simulate_market(events, uninformed_orders, fundamental_price, mm_strategy=mm_threshold_strategy, threshold=1):\n",
    "    \n",
    "    mm_prices = np.zeros(MAX_T)        # market-maker price history\n",
    "    order_imbalances = np.zeros(MAX_T) # order-imbalance histort\n",
    "    informed_orders = np.zeros(MAX_T)  # newly coming informed trader orders\n",
    "    rewards = np.zeros(MAX_T)          # market-maker reward history\n",
    "    actions = np.zeros(MAX_T)          # action history\n",
    "    t_mm = 0                           # the time of the last market-maker's action\n",
    "    mm_current_price = INITIAL_PRICE\n",
    "    \n",
    "    for t in range(MAX_T):\n",
    "        if events[t] == EVENT_INFORMED_ARRIVAL:\n",
    "            order = informed_strategy(fundamental_price[t], mm_current_price)\n",
    "            informed_orders[t] = order             # new order of informed trader added into the informed_orders\n",
    "        else:\n",
    "            order = uninformed_orders[t]   \n",
    "            \n",
    "        # order-imbalance made by both informed and uninformed orders together (a scaler)\n",
    "        imbalance = np.sum(informed_orders[t_mm:t] + uninformed_orders[t_mm:t])  \n",
    "        \n",
    "        # the market-maker price change\n",
    "        mm_price_delta = mm_strategy(imbalance, threshold)\n",
    "        \n",
    "        # if market-maker make a price change: mark the time and change the price\n",
    "        if mm_price_delta != 0:\n",
    "            t_mm = t\n",
    "            mm_current_price += mm_price_delta\n",
    "            \n",
    "        order_imbalances[t] = imbalance\n",
    "        mm_prices[t] = mm_current_price\n",
    "        actions[t] = mm_price_delta\n",
    "        rewards[t] = mm_reward(fundamental_price[t], mm_current_price, order)\n",
    "\n",
    "    return mm_prices, order_imbalances, rewards, actions\n"
   ]
  },
  {
   "cell_type": "code",
   "execution_count": 30,
   "metadata": {},
   "outputs": [],
   "source": [
    "mm_prices, order_imbalances, rewards, actions = simulate_market(events, uninformed_orders, fundamental_price, threshold=2)"
   ]
  },
  {
   "cell_type": "code",
   "execution_count": 32,
   "metadata": {},
   "outputs": [
    {
     "data": {
      "image/png": "[encoded data removed]",
      "text/plain": [
       "<Figure size 432x288 with 1 Axes>"
      ]
     },
     "metadata": {
      "needs_background": "light"
     },
     "output_type": "display_data"
    }
   ],
   "source": [
    "# Order-imbalance time series\n",
    "plt.plot(order_imbalances)\n",
    "plt.xlabel('$t$')\n",
    "plt.ylabel('$IMB_t$')\n",
    "plt.show()"
   ]
  },
  {
   "cell_type": "code",
   "execution_count": 33,
   "metadata": {},
   "outputs": [
    {
     "data": {
      "image/png": "[encoded data removed]",
      "text/plain": [
       "<Figure size 432x288 with 1 Axes>"
      ]
     },
     "metadata": {
      "needs_background": "light"
     },
     "output_type": "display_data"
    }
   ],
   "source": [
    "# Price time series\n",
    "plt.plot(mm_prices)\n",
    "plt.plot(fundamental_price)\n",
    "plt.xlabel('$t$')\n",
    "plt.legend(['$p^m_t$','$p^*_t$'])\n",
    "plt.show()"
   ]
  },
  {
   "cell_type": "code",
   "execution_count": 35,
   "metadata": {},
   "outputs": [
    {
     "data": {
      "image/png": "[encoded data removed]",
      "text/plain": [
       "<Figure size 432x288 with 1 Axes>"
      ]
     },
     "metadata": {
      "needs_background": "light"
     },
     "output_type": "display_data"
    }
   ],
   "source": [
    "# Reward time series\n",
    "plt.plot(rewards)\n",
    "plt.xlabel('$t$'); plt.ylabel('$r_t$')\n",
    "plt.show()"
   ]
  },
  {
   "cell_type": "code",
   "execution_count": 37,
   "metadata": {},
   "outputs": [
    {
     "data": {
      "text/plain": [
       "-75.0"
      ]
     },
     "execution_count": 37,
     "metadata": {},
     "output_type": "execute_result"
    }
   ],
   "source": [
    "# Policy evaluation: expected rewards\n",
    "np.mean(rewards)*MAX_T"
   ]
  },
  {
   "cell_type": "markdown",
   "metadata": {},
   "source": [
    "## Monte-carlo policy evaluation"
   ]
  },
  {
   "cell_type": "code",
   "execution_count": 38,
   "metadata": {},
   "outputs": [],
   "source": [
    "def simulate_all(mm_strategy=mm_threshold_strategy, threshold=1, probabilities=ALL_PROB):\n",
    "    \"\"\"\n",
    "    1. 产生已发事件序列\n",
    "    2. 从中提取基本面价格变化序列\n",
    "    3. 无信息交易者提供的订单流\n",
    "    4. 通过mm做市规则返回做市商报价、订单不平衡历史、回报历史以及动作历史\n",
    "    \"\"\"\n",
    "    events = simulate_events(probabilities)\n",
    "    fundamental_price = simulate_fundamental_price(events)\n",
    "    uninformed_orders = simulate_uninformed_orders(events)\n",
    "    return simulate_market(events, uninformed_orders, fundamental_price, mm_strategy, threshold)"
   ]
  },
  {
   "cell_type": "code",
   "execution_count": 39,
   "metadata": {},
   "outputs": [
    {
     "data": {
      "text/plain": [
       "-0.48"
      ]
     },
     "execution_count": 39,
     "metadata": {},
     "output_type": "execute_result"
    }
   ],
   "source": [
    "mm_prices, order_imbalances, rewards, actions = simulate_all(threshold=1)\n",
    "np.mean(rewards)"
   ]
  },
  {
   "cell_type": "code",
   "execution_count": 40,
   "metadata": {},
   "outputs": [],
   "source": [
    "# Using the sample-mean to estimate expected value\n",
    "def evaluate(policy, probabilities=ALL_PROB, samples=1000):\n",
    "    return np.mean([np.mean(simulate_all(threshold=policy)[2]) for i in range(samples)])"
   ]
  },
  {
   "cell_type": "code",
   "execution_count": 41,
   "metadata": {},
   "outputs": [
    {
     "name": "stdout",
     "output_type": "stream",
     "text": [
      "Threshold is 1:  -0.4394733333333334\n",
      "Threshold is 2:  -0.5379133333333332\n",
      "Threshold is 3:  -0.7026\n"
     ]
    }
   ],
   "source": [
    "# Comparing policies\n",
    "print(\"Threshold is 1: \", evaluate(policy=1))\n",
    "print(\"Threshold is 2: \", evaluate(policy=2))\n",
    "print(\"Threshold is 3: \", evaluate(policy=3))"
   ]
  },
  {
   "cell_type": "markdown",
   "metadata": {},
   "source": [
    "## The value of states"
   ]
  },
  {
   "cell_type": "code",
   "execution_count": 42,
   "metadata": {},
   "outputs": [
    {
     "data": {
      "text/plain": [
       "-0.5"
      ]
     },
     "execution_count": 42,
     "metadata": {},
     "output_type": "execute_result"
    }
   ],
   "source": [
    "# The value of states\n",
    "mm_prices, order_imbalances, rewards, actions = simulate_all(threshold=2)\n",
    "np.mean(rewards)"
   ]
  },
  {
   "cell_type": "code",
   "execution_count": 43,
   "metadata": {},
   "outputs": [
    {
     "data": {
      "text/plain": [
       "{(-2, -0.3333333333333333),\n",
       " (-1, -0.6),\n",
       " (0, -0.62),\n",
       " (1, -0.3888888888888889),\n",
       " (2, -0.16666666666666666)}"
      ]
     },
     "execution_count": 43,
     "metadata": {},
     "output_type": "execute_result"
    }
   ],
   "source": [
    "value_fn = {(state, np.mean(rewards[order_imbalances == state])) for state in [-2, -1, 0, +1, +2]}\n",
    "value_fn"
   ]
  },
  {
   "cell_type": "code",
   "execution_count": 45,
   "metadata": {},
   "outputs": [
    {
     "data": {
      "text/plain": [
       "-0.6"
      ]
     },
     "execution_count": 45,
     "metadata": {},
     "output_type": "execute_result"
    }
   ],
   "source": [
    "value_dict = dict(value_fn)\n",
    "value_dict[-1]"
   ]
  },
  {
   "cell_type": "code",
   "execution_count": 46,
   "metadata": {},
   "outputs": [],
   "source": [
    "def expected_reward_by_state(mm_strategy, threshold, probabilities=ALL_PROB, samples=1000):\n",
    "    states = range(-threshold, threshold+1)   # define the states\n",
    "    result = np.zeros((samples, len(states)))\n",
    "    \n",
    "    for i in range(samples):\n",
    "        rewards = simulate_all(mm_strategy, threshold)[2]      # complex level n^2\n",
    "        result[i, :] = [np.mean(rewards[order_imbalances == state]) for state in states]\n",
    "        \n",
    "    return dict(zip(states, np.nanmean(result, axis=0)))"
   ]
  },
  {
   "cell_type": "code",
   "execution_count": 49,
   "metadata": {},
   "outputs": [
    {
     "name": "stdout",
     "output_type": "stream",
     "text": [
      "Threshold is 1:  {-1: -0.45347500000000013, 0: -0.42633999999999966, 1: -0.4326666666666671}\n"
     ]
    }
   ],
   "source": [
    "print(\"Threshold is 1: \", expected_reward_by_state(mm_threshold_strategy, threshold=1))"
   ]
  },
  {
   "cell_type": "code",
   "execution_count": 50,
   "metadata": {},
   "outputs": [
    {
     "name": "stdout",
     "output_type": "stream",
     "text": [
      "Threshold is 2:  {-2: -0.5429999999999992, -1: -0.5417250000000006, 0: -0.5130999999999999, 1: -0.5156666666666664, 2: -0.5491666666666665}\n"
     ]
    }
   ],
   "source": [
    "print(\"Threshold is 2: \", expected_reward_by_state(mm_threshold_strategy, threshold=2))"
   ]
  },
  {
   "cell_type": "markdown",
   "metadata": {},
   "source": [
    "## The value of state action pairs"
   ]
  },
  {
   "cell_type": "code",
   "execution_count": 51,
   "metadata": {},
   "outputs": [],
   "source": [
    "def q_table(result, all_actions, all_states):\n",
    "    return pd.DataFrame(result, columns=[\"$\\Delta p=%s$\" % a for a in all_actions], index=all_states)"
   ]
  },
  {
   "cell_type": "code",
   "execution_count": 52,
   "metadata": {},
   "outputs": [],
   "source": [
    "def expected_reward_by_state_action(mm_strategy, threshold, probabilities=ALL_PROB, samples=1000):\n",
    "    all_states = range(-threshold, threshold+1)\n",
    "    all_actions = [-1, 0, +1]\n",
    "    result = np.zeros((samples, len(all_states), len(all_actions)))\n",
    "    \n",
    "    for i in range(samples):\n",
    "        _, states, rewards, actions = simulate_all(mm_strategy, threshold)\n",
    "        result[i, :, :] = np.reshape([np.nanmean(rewards[(states == state) & (actions == action)]) for state in all_states for action in all_actions],(len(all_states), len(all_actions)))\n",
    "    return np.nanmean(result, axis=0)"
   ]
  },
  {
   "cell_type": "code",
   "execution_count": 54,
   "metadata": {},
   "outputs": [
    {
     "name": "stderr",
     "output_type": "stream",
     "text": [
      "C:\\Users\\zhizhao_wang\\AppData\\Local\\Temp\\ipykernel_18152\\4030520445.py:8: RuntimeWarning: Mean of empty slice\n",
      "  result[i, :, :] = np.reshape([np.nanmean(rewards[(states == state) & (actions == action)]) for state in all_states for action in all_actions],(len(all_states), len(all_actions)))\n",
      "C:\\Users\\zhizhao_wang\\AppData\\Local\\Temp\\ipykernel_18152\\4030520445.py:9: RuntimeWarning: Mean of empty slice\n",
      "  return np.nanmean(result, axis=0)\n"
     ]
    }
   ],
   "source": [
    "Q = expected_reward_by_state_action(mm_threshold_strategy, threshold=2, samples=10000)\n",
    "q = q_table(Q, [-1, 0, +1], range(-2, 3))"
   ]
  },
  {
   "cell_type": "code",
   "execution_count": 56,
   "metadata": {},
   "outputs": [
    {
     "name": "stdout",
     "output_type": "stream",
     "text": [
      "    $\\Delta p=-1$  $\\Delta p=0$  $\\Delta p=1$\n",
      "-2      -0.391622           NaN           NaN\n",
      "-1            NaN     -0.564405           NaN\n",
      "0             NaN     -0.560977           NaN\n",
      "1             NaN     -0.569636           NaN\n",
      "2             NaN           NaN     -0.389317\n"
     ]
    }
   ],
   "source": [
    "print(q)"
   ]
  },
  {
   "cell_type": "markdown",
   "metadata": {},
   "source": [
    "## Exploration of the state-space"
   ]
  },
  {
   "cell_type": "code",
   "execution_count": 59,
   "metadata": {},
   "outputs": [],
   "source": [
    "def mm_exploration_strategy(order_imbalance, threshold=2, epsilon=0.025):\n",
    "    # epsilon is the exploration prob.\n",
    "    if np.random.random() <= epsilon:\n",
    "        return np.random.choice([-1, 0, +1])\n",
    "    else:\n",
    "        if order_imbalance == +threshold:\n",
    "            return -1\n",
    "        elif order_imbalance == -threshold:\n",
    "            return +1\n",
    "        else:\n",
    "            return 0"
   ]
  },
  {
   "cell_type": "markdown",
   "metadata": {},
   "source": [
    "##  Results from Monte-Carlo policy evaluation"
   ]
  },
  {
   "cell_type": "code",
   "execution_count": 60,
   "metadata": {},
   "outputs": [
    {
     "name": "stdout",
     "output_type": "stream",
     "text": [
      "    $\\Delta p=-1$  $\\Delta p=0$  $\\Delta p=1$\n",
      "-2      -6.006714     -6.496379     -5.897773\n",
      "-1      -5.671817     -6.094921     -6.222807\n",
      "0       -5.667626     -5.777794     -5.652327\n",
      "1       -6.239896     -6.078333     -5.592944\n",
      "2       -5.966122     -5.908599     -5.968848\n"
     ]
    }
   ],
   "source": [
    "Q = expected_reward_by_state_action(mm_exploration_strategy, threshold=2, samples=50000)\n",
    "q = q_table(Q, [-1, 0, +1], range(-2, 3))\n",
    "print(q)"
   ]
  },
  {
   "cell_type": "code",
   "execution_count": 61,
   "metadata": {},
   "outputs": [
    {
     "data": {
      "text/plain": [
       "{0: 1, -1: -1, -2: 1, 1: 1, 2: 0}"
      ]
     },
     "execution_count": 61,
     "metadata": {},
     "output_type": "execute_result"
    }
   ],
   "source": [
    "dict({(s, np.where(Q[s+2, :] == np.max(Q[s+2, :]))[0][0] - 1) for s in range(-2, 3)})"
   ]
  },
  {
   "cell_type": "code",
   "execution_count": null,
   "metadata": {},
   "outputs": [],
   "source": []
  },
  {
   "cell_type": "code",
   "execution_count": null,
   "metadata": {},
   "outputs": [],
   "source": []
  },
  {
   "cell_type": "code",
   "execution_count": null,
   "metadata": {},
   "outputs": [],
   "source": []
  },
  {
   "cell_type": "code",
   "execution_count": null,
   "metadata": {},
   "outputs": [],
   "source": []
  },
  {
   "cell_type": "code",
   "execution_count": 62,
   "metadata": {},
   "outputs": [],
   "source": [
    "all_actions = [-1, 0, +1]\n",
    "all_states = range(-2, +3)"
   ]
  },
  {
   "cell_type": "code",
   "execution_count": 63,
   "metadata": {},
   "outputs": [],
   "source": [
    "def initialise_learner():\n",
    "    return np.zeros((len(all_states), len(all_actions)))"
   ]
  },
  {
   "cell_type": "code",
   "execution_count": 64,
   "metadata": {},
   "outputs": [
    {
     "name": "stdout",
     "output_type": "stream",
     "text": [
      "    $\\Delta p=-1$  $\\Delta p=0$  $\\Delta p=1$\n",
      "-2            0.0           0.0           0.0\n",
      "-1            0.0           0.0           0.0\n",
      "0             0.0           0.0           0.0\n",
      "1             0.0           0.0           0.0\n",
      "2             0.0           0.0           0.0\n"
     ]
    }
   ],
   "source": [
    "Q = initialise_learner()\n",
    "print(q_table(Q, all_actions, all_states))"
   ]
  },
  {
   "cell_type": "code",
   "execution_count": 65,
   "metadata": {},
   "outputs": [],
   "source": [
    "# map from the state and action space into indices of the matrix\n",
    "def state(imbalance, all_states=range(-2, +3)):\n",
    "    s = int(imbalance) - all_states[0]\n",
    "    ms = len(all_states)-1\n",
    "    if s > ms:\n",
    "        return ms\n",
    "    elif s < 0:\n",
    "        return 0\n",
    "    else:\n",
    "        return s\n",
    "    \n",
    "def action(price_delta):\n",
    "    return int(price_delta) + 1"
   ]
  },
  {
   "cell_type": "code",
   "execution_count": 66,
   "metadata": {},
   "outputs": [],
   "source": [
    "# functions to obtain Q values from specified actions and states\n",
    "def q_values(Q, imbalance):\n",
    "    return Q[state(imbalance), :]\n",
    "\n",
    "def q_value(Q, imbalance, price_delta):\n",
    "    return Q[state(imbalance), action(price_delta)]"
   ]
  },
  {
   "cell_type": "markdown",
   "metadata": {},
   "source": [
    "## Temporal-difference learning"
   ]
  },
  {
   "cell_type": "code",
   "execution_count": 67,
   "metadata": {},
   "outputs": [],
   "source": [
    "def update_learner(s, a, r, s_, a_, Q, alpha=0.01, gamma=0.0):\n",
    "    Q[state(s), action(a)] += alpha * (r + gamma * q_value(Q, s_, a_) - q_value(Q, s, a))"
   ]
  },
  {
   "cell_type": "markdown",
   "metadata": {},
   "source": [
    "##  The market-maker as a reinforcement-learning agent"
   ]
  },
  {
   "cell_type": "code",
   "execution_count": 68,
   "metadata": {},
   "outputs": [],
   "source": [
    "def simulate_learning_mm(Q, events, uninformed_orders, fundamental_price, mm_policy):\n",
    "    \n",
    "    mm_prices = np.zeros(MAX_T, dtype=int)\n",
    "    order_imbalances = np.zeros(MAX_T, dtype=int)\n",
    "    informed_orders = np.zeros(MAX_T, dtype=int)\n",
    "    rewards = np.zeros(MAX_T)\n",
    "    actions = np.zeros(MAX_T, dtype=int)\n",
    "    mm_t_last_change = 0\n",
    "    mm_current_price = INITIAL_PRICE\n",
    "    \n",
    "    for t in range(MAX_T):\n",
    "        if events[t] == EVENT_INFORMED_ARRIVAL:\n",
    "            order = informed_strategy(fundamental_price[t], mm_current_price)\n",
    "            informed_orders[t] = order\n",
    "        else:\n",
    "            order = uninformed_orders[t]\n",
    "            \n",
    "        imbalance = np.sum(informed_orders[mm_t_last_change:t] + uninformed_orders[mm_t_last_change:t])\n",
    "        \n",
    "        mm_price_delta = mm_policy(imbalance)\n",
    "        \n",
    "        if mm_price_delta != 0:\n",
    "            mm_t_last_change = t\n",
    "            mm_current_price += mm_price_delta\n",
    "            \n",
    "        order_imbalances[t] = imbalance\n",
    "        mm_prices[t] = mm_current_price\n",
    "        actions[t] = mm_price_delta\n",
    "        rewards[t] = mm_reward(fundamental_price[t], mm_current_price, order)\n",
    "        \n",
    "        # Reinforcement learning part\n",
    "        if t>0:\n",
    "            update_learner(order_imbalances[t-1], actions[t-1], rewards[t-1], imbalance, mm_price_delta, Q)\n",
    "            \n",
    "    return fundamental_price, mm_prices, order_imbalances, rewards, actions, Q"
   ]
  },
  {
   "cell_type": "markdown",
   "metadata": {},
   "source": [
    "## On-policy control\n",
    "- Now we can combine policy improvement and policy estimation in a single step.\n",
    "\n",
    "- This algorithm is called SARSA, which is named after the arguments to the function update_learner.\n",
    "\n",
    "- We use TD learning to bootstrap Q values, and then form an ϵ-greedy policy using our value estimates."
   ]
  },
  {
   "cell_type": "code",
   "execution_count": 69,
   "metadata": {},
   "outputs": [],
   "source": [
    "def mm_learning_strategy(Q, s, epsilon=0.1):\n",
    "    if np.random.random() <= epsilon:\n",
    "        # exploration\n",
    "        action = np.random.choice([-1, 0, +1])\n",
    "    else:\n",
    "        # greedy-exploitation\n",
    "        values = q_values(Q, s)\n",
    "        max_value = np.max(values)\n",
    "        action = np.random.choice(np.where(values == max_value)[0]) - 1\n",
    "    return action"
   ]
  },
  {
   "cell_type": "code",
   "execution_count": 70,
   "metadata": {},
   "outputs": [],
   "source": [
    "def simulate_learning(Q, probabilities=ALL_PROB):\n",
    "    events = simulate_events(probabilities)\n",
    "    fundamental_price = simulate_fundamental_price(events)\n",
    "    uninformed_orders = simulate_uninformed_orders(events)\n",
    "    \n",
    "    def sarsa(s):\n",
    "        return mm_learning_strategy(Q, s)\n",
    "    \n",
    "    return simulate_learning_mm(Q, events, uninformed_orders, fundamental_price, mm_policy=sarsa)"
   ]
  },
  {
   "cell_type": "markdown",
   "metadata": {},
   "source": [
    "##  Learning"
   ]
  },
  {
   "cell_type": "code",
   "execution_count": 72,
   "metadata": {},
   "outputs": [
    {
     "name": "stdout",
     "output_type": "stream",
     "text": [
      "    $\\Delta p=-1$  $\\Delta p=0$  $\\Delta p=1$\n",
      "-2      -1.077275     -0.956881     -0.895342\n",
      "-1      -2.333244     -2.692118     -2.781872\n",
      "0       -1.703979     -1.684234     -1.628605\n",
      "1       -0.260000     -0.250000     -0.186219\n",
      "2        0.000000      0.000000      0.000000\n"
     ]
    }
   ],
   "source": [
    "# Learning over a single episode\n",
    "Q = initialise_learner()\n",
    "fundamental_price, mm_prices, order_imbalances, rewards, actions, Q = simulate_learning(Q)\n",
    "print(q_table(Q, all_actions, all_states))"
   ]
  },
  {
   "cell_type": "code",
   "execution_count": 73,
   "metadata": {},
   "outputs": [],
   "source": [
    "# Learning over many episodes (days)\n",
    "EPISODES = 5000\n",
    "\n",
    "for i in range(EPISODES):\n",
    "    fundamental_price, mm_prices, order_imbalances, rewards, actions, Q = simulate_learning(Q)"
   ]
  },
  {
   "cell_type": "code",
   "execution_count": 74,
   "metadata": {},
   "outputs": [
    {
     "name": "stdout",
     "output_type": "stream",
     "text": [
      "    $\\Delta p=-1$  $\\Delta p=0$  $\\Delta p=1$\n",
      "-2      -0.863115     -1.369224     -1.822484\n",
      "-1      -0.522537     -0.659950     -0.964809\n",
      "0       -0.856753     -0.395345     -0.876096\n",
      "1       -1.075487     -0.897056     -0.459709\n",
      "2       -2.837345     -2.742928     -0.992358\n"
     ]
    }
   ],
   "source": [
    "print(q_table(Q, all_actions, all_states))"
   ]
  },
  {
   "cell_type": "code",
   "execution_count": 75,
   "metadata": {},
   "outputs": [
    {
     "data": {
      "text/plain": [
       "{(-2, -1), (-1, -1), (0, 0), (1, 1), (2, 1)}"
      ]
     },
     "execution_count": 75,
     "metadata": {},
     "output_type": "execute_result"
    }
   ],
   "source": [
    "# greedy policy\n",
    "{(s, np.where(Q[state(s), :] == np.max(Q[state(s), :]))[0][0] - 1) for s in all_states}"
   ]
  },
  {
   "cell_type": "code",
   "execution_count": 76,
   "metadata": {},
   "outputs": [
    {
     "data": {
      "image/png": "[encoded data removed]",
      "text/plain": [
       "<Figure size 432x288 with 1 Axes>"
      ]
     },
     "metadata": {
      "needs_background": "light"
     },
     "output_type": "display_data"
    }
   ],
   "source": [
    "# The prices from the final trading day\n",
    "plt.plot(mm_prices); plt.plot(fundamental_price)\n",
    "plt.xlabel('$t$'); plt.legend(['$p^m_t$','$p^*_t$'])\n",
    "plt.show()"
   ]
  },
  {
   "cell_type": "code",
   "execution_count": 77,
   "metadata": {},
   "outputs": [
    {
     "data": {
      "image/png": "[encoded data removed]",
      "text/plain": [
       "<Figure size 432x288 with 1 Axes>"
      ]
     },
     "metadata": {
      "needs_background": "light"
     },
     "output_type": "display_data"
    }
   ],
   "source": [
    "# The rewards in the final day\n",
    "plt.plot(rewards)\n",
    "plt.xlabel('$t$'); plt.ylabel('$r_t$')\n",
    "plt.show()"
   ]
  },
  {
   "cell_type": "code",
   "execution_count": 79,
   "metadata": {},
   "outputs": [
    {
     "data": {
      "text/plain": [
       "-65.0"
      ]
     },
     "execution_count": 79,
     "metadata": {},
     "output_type": "execute_result"
    }
   ],
   "source": [
    "np.mean(rewards)*MAX_T"
   ]
  }
 ],
 "metadata": {
  "kernelspec": {
   "display_name": "Python [conda env:CQF]",
   "language": "python",
   "name": "conda-env-CQF-py"
  },
  "language_info": {
   "codemirror_mode": {
    "name": "ipython",
    "version": 3
   },
   "file_extension": ".py",
   "mimetype": "text/x-python",
   "name": "python",
   "nbconvert_exporter": "python",
   "pygments_lexer": "ipython3",
   "version": "3.10.4"
  }
 },
 "nbformat": 4,
 "nbformat_minor": 4
}
